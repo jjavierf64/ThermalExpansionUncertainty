{
 "cells": [
  {
   "attachments": {},
   "cell_type": "markdown",
   "metadata": {},
   "source": [
    "# Evaluation of the uncertainty of the coefficient of thermal expansion of a ceramic dimensional gauge block measured by interferometry."
   ]
  },
  {
   "attachments": {},
   "cell_type": "markdown",
   "metadata": {},
   "source": [
    "Firstly, we import the necessary libraries to calculate the partial derivates and evaluate"
   ]
  },
  {
   "cell_type": "code",
   "execution_count": 1,
   "metadata": {},
   "outputs": [],
   "source": [
    "import numpy as np\n",
    "import sympy as sp\n",
    "import matplotlib.pyplot as plt\n",
    "import pandas"
   ]
  },
  {
   "attachments": {},
   "cell_type": "markdown",
   "metadata": {},
   "source": [
    "Then we define the measurement function and asign it to the variable `alpha` through the `sympy` package."
   ]
  },
  {
   "cell_type": "code",
   "execution_count": 6,
   "metadata": {},
   "outputs": [
    {
     "name": "stdout",
     "output_type": "stream",
     "text": [
      "N*lambda/(2*L_0*(T - T_0))\n"
     ]
    }
   ],
   "source": [
    "# First, we define the variables used in the ecuation\n",
    "\n",
    "N = sp.Symbol('N')\n",
    "l = sp.Symbol('lambda')\n",
    "L_0 = sp.Symbol('L_0')\n",
    "T = sp.Symbol('T')\n",
    "T_0 = sp.Symbol('T_0')\n",
    "\n",
    "# Then we create the function\n",
    "\n",
    "alpha = (N * l)/(2 * L_0 * (T - T_0))\n",
    "print(alpha)\n"
   ]
  },
  {
   "attachments": {},
   "cell_type": "markdown",
   "metadata": {},
   "source": [
    "Now we find the partial derivatives respective to every variable using a list. "
   ]
  },
  {
   "cell_type": "code",
   "execution_count": 8,
   "metadata": {},
   "outputs": [
    {
     "name": "stdout",
     "output_type": "stream",
     "text": [
      "[[N, lambda, L_0, T, T_0], [lambda/(2*L_0*(T - T_0)), N/(2*L_0*(T - T_0)), -N*lambda/(2*L_0**2*(T - T_0)), -N*lambda/(2*L_0*(T - T_0)**2), N*lambda/(2*L_0*(T - T_0)**2)]]\n"
     ]
    }
   ],
   "source": [
    "difVariables = [N,l,L_0,T,T_0]\n",
    "partialDerivatives = [difVariables,[]]\n",
    "\n",
    "\n",
    "for variable in difVariables:\n",
    "    derivative = sp.diff(alpha,variable)\n",
    "    partialDerivatives[1].append(derivative)\n",
    "\n",
    "print (partialDerivatives)"
   ]
  },
  {
   "cell_type": "code",
   "execution_count": null,
   "metadata": {},
   "outputs": [],
   "source": []
  }
 ],
 "metadata": {
  "kernelspec": {
   "display_name": "Python 3",
   "language": "python",
   "name": "python3"
  },
  "language_info": {
   "codemirror_mode": {
    "name": "ipython",
    "version": 3
   },
   "file_extension": ".py",
   "mimetype": "text/x-python",
   "name": "python",
   "nbconvert_exporter": "python",
   "pygments_lexer": "ipython3",
   "version": "3.11.2"
  },
  "orig_nbformat": 4
 },
 "nbformat": 4,
 "nbformat_minor": 2
}
