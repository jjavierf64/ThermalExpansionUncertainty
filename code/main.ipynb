{
 "cells": [
  {
   "attachments": {},
   "cell_type": "markdown",
   "metadata": {},
   "source": [
    "# Evaluation of the uncertainty of the coefficient of thermal expansion of a ceramic dimensional gauge block measured by interferometry."
   ]
  },
  {
   "attachments": {},
   "cell_type": "markdown",
   "metadata": {},
   "source": [
    "Firstly, we import the necessary libraries to calculate the partial derivates and evaluate"
   ]
  },
  {
   "cell_type": "code",
   "execution_count": 297,
   "metadata": {},
   "outputs": [],
   "source": [
    "import numpy as np\n",
    "import sympy as sp\n",
    "import matplotlib.pyplot as plt\n",
    "import pandas as pd\n",
    "from sympy import symbols"
   ]
  },
  {
   "attachments": {},
   "cell_type": "markdown",
   "metadata": {},
   "source": [
    "Then we define the measurement function and asign it to the variable `alpha` through the `sympy` package."
   ]
  },
  {
   "cell_type": "code",
   "execution_count": 298,
   "metadata": {},
   "outputs": [
    {
     "name": "stdout",
     "output_type": "stream",
     "text": [
      "N*lambda/(2*L_0*(T - T_0))\n"
     ]
    }
   ],
   "source": [
    "# First, we define the variables used in the ecuation\n",
    "\n",
    "N, l, L_0, T, T_0 = symbols('N lambda L_0 T T_0')\n",
    "\n",
    "# Then we create the function\n",
    "\n",
    "alpha = (N * l)/(2 * L_0 * (T - T_0))\n",
    "print(alpha)\n"
   ]
  },
  {
   "attachments": {},
   "cell_type": "markdown",
   "metadata": {},
   "source": [
    "Now we find the partial derivatives respective to every variable using a list. "
   ]
  },
  {
   "cell_type": "code",
   "execution_count": 299,
   "metadata": {},
   "outputs": [
    {
     "name": "stdout",
     "output_type": "stream",
     "text": [
      "[[N, lambda, L_0, T, T_0], [lambda/(2*L_0*(T - T_0)), N/(2*L_0*(T - T_0)), -N*lambda/(2*L_0**2*(T - T_0)), -N*lambda/(2*L_0*(T - T_0)**2), N*lambda/(2*L_0*(T - T_0)**2)]]\n"
     ]
    }
   ],
   "source": [
    "difVariables = [N,l,L_0,T,T_0]\n",
    "partialDerivatives = [difVariables,[]]\n",
    "\n",
    "\n",
    "for variable in difVariables:\n",
    "    derivative = sp.diff(alpha,variable)\n",
    "    partialDerivatives[1].append(derivative)\n",
    "\n",
    "print (partialDerivatives)"
   ]
  },
  {
   "attachments": {},
   "cell_type": "markdown",
   "metadata": {},
   "source": [
    "First Order Derivatives are placed in a dataframe with each respective variable as a header"
   ]
  },
  {
   "cell_type": "code",
   "execution_count": 300,
   "metadata": {},
   "outputs": [
    {
     "data": {
      "text/html": [
       "<div>\n",
       "<style scoped>\n",
       "    .dataframe tbody tr th:only-of-type {\n",
       "        vertical-align: middle;\n",
       "    }\n",
       "\n",
       "    .dataframe tbody tr th {\n",
       "        vertical-align: top;\n",
       "    }\n",
       "\n",
       "    .dataframe thead th {\n",
       "        text-align: right;\n",
       "    }\n",
       "</style>\n",
       "<table border=\"1\" class=\"dataframe\">\n",
       "  <thead>\n",
       "    <tr style=\"text-align: right;\">\n",
       "      <th></th>\n",
       "      <th>N</th>\n",
       "      <th>lambda</th>\n",
       "      <th>L_0</th>\n",
       "      <th>T</th>\n",
       "      <th>T_0</th>\n",
       "    </tr>\n",
       "  </thead>\n",
       "  <tbody>\n",
       "    <tr>\n",
       "      <th>0</th>\n",
       "      <td>lambda/(2*L_0*(T - T_0))</td>\n",
       "      <td>N/(2*L_0*(T - T_0))</td>\n",
       "      <td>-N*lambda/(2*L_0**2*(T - T_0))</td>\n",
       "      <td>-N*lambda/(2*L_0*(T - T_0)**2)</td>\n",
       "      <td>N*lambda/(2*L_0*(T - T_0)**2)</td>\n",
       "    </tr>\n",
       "  </tbody>\n",
       "</table>\n",
       "</div>"
      ],
      "text/plain": [
       "                          N               lambda  \\\n",
       "0  lambda/(2*L_0*(T - T_0))  N/(2*L_0*(T - T_0))   \n",
       "\n",
       "                              L_0                               T  \\\n",
       "0  -N*lambda/(2*L_0**2*(T - T_0))  -N*lambda/(2*L_0*(T - T_0)**2)   \n",
       "\n",
       "                             T_0  \n",
       "0  N*lambda/(2*L_0*(T - T_0)**2)  "
      ]
     },
     "execution_count": 300,
     "metadata": {},
     "output_type": "execute_result"
    }
   ],
   "source": [
    "columns=partialDerivatives[0]\n",
    "\n",
    "FirstOrderDerivatives = pd.DataFrame(partialDerivatives[1:],columns=columns)\n",
    "FirstOrderDerivatives"
   ]
  },
  {
   "attachments": {},
   "cell_type": "markdown",
   "metadata": {},
   "source": [
    "Now Second Order Derivatives are calculated and added to the data frame"
   ]
  },
  {
   "cell_type": "code",
   "execution_count": 301,
   "metadata": {},
   "outputs": [
    {
     "data": {
      "text/html": [
       "<div>\n",
       "<style scoped>\n",
       "    .dataframe tbody tr th:only-of-type {\n",
       "        vertical-align: middle;\n",
       "    }\n",
       "\n",
       "    .dataframe tbody tr th {\n",
       "        vertical-align: top;\n",
       "    }\n",
       "\n",
       "    .dataframe thead th {\n",
       "        text-align: right;\n",
       "    }\n",
       "</style>\n",
       "<table border=\"1\" class=\"dataframe\">\n",
       "  <thead>\n",
       "    <tr style=\"text-align: right;\">\n",
       "      <th></th>\n",
       "      <th>N</th>\n",
       "      <th>lambda</th>\n",
       "      <th>L_0</th>\n",
       "      <th>T</th>\n",
       "      <th>T_0</th>\n",
       "    </tr>\n",
       "  </thead>\n",
       "  <tbody>\n",
       "    <tr>\n",
       "      <th>0</th>\n",
       "      <td>lambda/(2*L_0*(T - T_0))</td>\n",
       "      <td>N/(2*L_0*(T - T_0))</td>\n",
       "      <td>-N*lambda/(2*L_0**2*(T - T_0))</td>\n",
       "      <td>-N*lambda/(2*L_0*(T - T_0)**2)</td>\n",
       "      <td>N*lambda/(2*L_0*(T - T_0)**2)</td>\n",
       "    </tr>\n",
       "    <tr>\n",
       "      <th>1</th>\n",
       "      <td>0</td>\n",
       "      <td>1/(2*L_0*(T - T_0))</td>\n",
       "      <td>-lambda/(2*L_0**2*(T - T_0))</td>\n",
       "      <td>-lambda/(2*L_0*(T - T_0)**2)</td>\n",
       "      <td>lambda/(2*L_0*(T - T_0)**2)</td>\n",
       "    </tr>\n",
       "    <tr>\n",
       "      <th>2</th>\n",
       "      <td>1/(2*L_0*(T - T_0))</td>\n",
       "      <td>0</td>\n",
       "      <td>-N/(2*L_0**2*(T - T_0))</td>\n",
       "      <td>-N/(2*L_0*(T - T_0)**2)</td>\n",
       "      <td>N/(2*L_0*(T - T_0)**2)</td>\n",
       "    </tr>\n",
       "    <tr>\n",
       "      <th>3</th>\n",
       "      <td>-lambda/(2*L_0**2*(T - T_0))</td>\n",
       "      <td>-N/(2*L_0**2*(T - T_0))</td>\n",
       "      <td>N*lambda/(L_0**3*(T - T_0))</td>\n",
       "      <td>N*lambda/(2*L_0**2*(T - T_0)**2)</td>\n",
       "      <td>-N*lambda/(2*L_0**2*(T - T_0)**2)</td>\n",
       "    </tr>\n",
       "    <tr>\n",
       "      <th>4</th>\n",
       "      <td>-lambda/(2*L_0*(T - T_0)**2)</td>\n",
       "      <td>-N/(2*L_0*(T - T_0)**2)</td>\n",
       "      <td>N*lambda/(2*L_0**2*(T - T_0)**2)</td>\n",
       "      <td>N*lambda/(L_0*(T - T_0)**3)</td>\n",
       "      <td>-N*lambda/(L_0*(T - T_0)**3)</td>\n",
       "    </tr>\n",
       "    <tr>\n",
       "      <th>5</th>\n",
       "      <td>lambda/(2*L_0*(T - T_0)**2)</td>\n",
       "      <td>N/(2*L_0*(T - T_0)**2)</td>\n",
       "      <td>-N*lambda/(2*L_0**2*(T - T_0)**2)</td>\n",
       "      <td>-N*lambda/(L_0*(T - T_0)**3)</td>\n",
       "      <td>N*lambda/(L_0*(T - T_0)**3)</td>\n",
       "    </tr>\n",
       "  </tbody>\n",
       "</table>\n",
       "</div>"
      ],
      "text/plain": [
       "                              N                   lambda  \\\n",
       "0      lambda/(2*L_0*(T - T_0))      N/(2*L_0*(T - T_0))   \n",
       "1                             0      1/(2*L_0*(T - T_0))   \n",
       "2           1/(2*L_0*(T - T_0))                        0   \n",
       "3  -lambda/(2*L_0**2*(T - T_0))  -N/(2*L_0**2*(T - T_0))   \n",
       "4  -lambda/(2*L_0*(T - T_0)**2)  -N/(2*L_0*(T - T_0)**2)   \n",
       "5   lambda/(2*L_0*(T - T_0)**2)   N/(2*L_0*(T - T_0)**2)   \n",
       "\n",
       "                                 L_0                                 T  \\\n",
       "0     -N*lambda/(2*L_0**2*(T - T_0))    -N*lambda/(2*L_0*(T - T_0)**2)   \n",
       "1       -lambda/(2*L_0**2*(T - T_0))      -lambda/(2*L_0*(T - T_0)**2)   \n",
       "2            -N/(2*L_0**2*(T - T_0))           -N/(2*L_0*(T - T_0)**2)   \n",
       "3        N*lambda/(L_0**3*(T - T_0))  N*lambda/(2*L_0**2*(T - T_0)**2)   \n",
       "4   N*lambda/(2*L_0**2*(T - T_0)**2)       N*lambda/(L_0*(T - T_0)**3)   \n",
       "5  -N*lambda/(2*L_0**2*(T - T_0)**2)      -N*lambda/(L_0*(T - T_0)**3)   \n",
       "\n",
       "                                 T_0  \n",
       "0      N*lambda/(2*L_0*(T - T_0)**2)  \n",
       "1        lambda/(2*L_0*(T - T_0)**2)  \n",
       "2             N/(2*L_0*(T - T_0)**2)  \n",
       "3  -N*lambda/(2*L_0**2*(T - T_0)**2)  \n",
       "4       -N*lambda/(L_0*(T - T_0)**3)  \n",
       "5        N*lambda/(L_0*(T - T_0)**3)  "
      ]
     },
     "execution_count": 301,
     "metadata": {},
     "output_type": "execute_result"
    }
   ],
   "source": [
    "difVariables = [N,l,L_0,T,T_0]\n",
    "\n",
    "for variable in difVariables:\n",
    "    derivativeOrder1 = sp.diff(alpha,variable)\n",
    "    partialDerivativesOrder2 = []\n",
    "\n",
    "    for variable in difVariables:\n",
    "        derivativeOrder2 = sp.diff(derivativeOrder1,variable)\n",
    "        partialDerivativesOrder2.append(derivativeOrder2)\n",
    "\n",
    "    partialDerivatives.append(partialDerivativesOrder2)\n",
    "\n",
    "\n",
    "\n",
    "columns=partialDerivatives[0]\n",
    "\n",
    "\n",
    "SecondOrderDerivatives = pd.DataFrame(partialDerivatives[1:],columns=columns)\n",
    "SecondOrderDerivatives\n"
   ]
  },
  {
   "attachments": {},
   "cell_type": "markdown",
   "metadata": {},
   "source": [
    "Using the sympy init_printing() function, we can export math expressions in LaTeX format"
   ]
  },
  {
   "cell_type": "code",
   "execution_count": 302,
   "metadata": {},
   "outputs": [
    {
     "name": "stdout",
     "output_type": "stream",
     "text": [
      "\\frac{N \\lambda}{2 L_{0} \\left(T - T_{0}\\right)}\n"
     ]
    }
   ],
   "source": [
    "from sympy import *\n",
    "from sympy.printing.mathml import mathml\n",
    "init_printing(use_unicode=True) # allow LaTeX printing\n",
    "\n",
    "print(latex(alpha)) #LaTeX format printing of main function"
   ]
  },
  {
   "attachments": {},
   "cell_type": "markdown",
   "metadata": {},
   "source": [
    "High order derivatives, are calculated as follows"
   ]
  },
  {
   "cell_type": "code",
   "execution_count": 303,
   "metadata": {},
   "outputs": [
    {
     "name": "stdout",
     "output_type": "stream",
     "text": [
      "N, N: 0\n",
      "N, lambda: \\frac{0.125}{L_{0}^{2} \\left(T - T_{0}\\right)^{2}}\n",
      "N, L_0: \\frac{0.625 \\lambda^{2}}{L_{0}^{4} \\left(T - T_{0}\\right)^{2}}\n",
      "N, T: \\frac{0.625 \\lambda^{2}}{L_{0}^{2} \\left(T - T_{0}\\right)^{4}}\n",
      "N, T_0: \\frac{0.625 \\lambda^{2}}{L_{0}^{2} \\left(T - T_{0}\\right)^{4}}\n",
      "lambda, N: \\frac{0.125}{L_{0}^{2} \\left(T - T_{0}\\right)^{2}}\n",
      "lambda, lambda: 0\n",
      "lambda, L_0: \\frac{0.625 N^{2}}{L_{0}^{4} \\left(T - T_{0}\\right)^{2}}\n",
      "lambda, T: \\frac{0.625 N^{2}}{L_{0}^{2} \\left(T - T_{0}\\right)^{4}}\n",
      "lambda, T_0: \\frac{0.625 N^{2}}{L_{0}^{2} \\left(T - T_{0}\\right)^{4}}\n",
      "L_0, N: \\frac{0.125 \\lambda^{2}}{L_{0}^{4} \\left(T - T_{0}\\right)^{2}}\n",
      "L_0, lambda: \\frac{0.125 N^{2}}{L_{0}^{4} \\left(T - T_{0}\\right)^{2}}\n",
      "L_0, L_0: \\frac{2.0 N^{2} \\lambda^{2}}{L_{0}^{6} \\left(T - T_{0}\\right)^{2}}\n",
      "L_0, T: \\frac{0.625 N^{2} \\lambda^{2}}{L_{0}^{4} \\left(T - T_{0}\\right)^{4}}\n",
      "L_0, T_0: \\frac{0.625 N^{2} \\lambda^{2}}{L_{0}^{4} \\left(T - T_{0}\\right)^{4}}\n",
      "T, N: \\frac{0.125 \\lambda^{2}}{L_{0}^{2} \\left(T - T_{0}\\right)^{4}}\n",
      "T, lambda: \\frac{0.125 N^{2}}{L_{0}^{2} \\left(T - T_{0}\\right)^{4}}\n",
      "T, L_0: \\frac{0.625 N^{2} \\lambda^{2}}{L_{0}^{4} \\left(T - T_{0}\\right)^{4}}\n",
      "T, T: \\frac{2.0 N^{2} \\lambda^{2}}{L_{0}^{2} \\left(T - T_{0}\\right)^{6}}\n",
      "T, T_0: \\frac{2.0 N^{2} \\lambda^{2}}{L_{0}^{2} \\left(T - T_{0}\\right)^{6}}\n",
      "T_0, N: \\frac{0.125 \\lambda^{2}}{L_{0}^{2} \\left(T - T_{0}\\right)^{4}}\n",
      "T_0, lambda: \\frac{0.125 N^{2}}{L_{0}^{2} \\left(T - T_{0}\\right)^{4}}\n",
      "T_0, L_0: \\frac{0.625 N^{2} \\lambda^{2}}{L_{0}^{4} \\left(T - T_{0}\\right)^{4}}\n",
      "T_0, T: \\frac{2.0 N^{2} \\lambda^{2}}{L_{0}^{2} \\left(T - T_{0}\\right)^{6}}\n",
      "T_0, T_0: \\frac{2.0 N^{2} \\lambda^{2}}{L_{0}^{2} \\left(T - T_{0}\\right)^{6}}\n"
     ]
    }
   ],
   "source": [
    "# Loops for finding the second order sensibility coeficient terms \n",
    "\n",
    "# sensibilityCoeficients = []\n",
    "\n",
    "for variable_i in difVariables:\n",
    "    for variable_j in difVariables:\n",
    "        sc = 1/2 * (sp.diff(sp.diff(alpha,variable_j),variable_i))**2 + sp.diff(alpha,variable_i)*sp.diff(sp.diff(sp.diff(alpha,variable_j),variable_j),variable_i)\n",
    "        print(str(variable_i)+\", \"+str(variable_j)+\": \"+latex(sc))\n"
   ]
  },
  {
   "attachments": {},
   "cell_type": "markdown",
   "metadata": {},
   "source": [
    "Using values to test the functions, N is substituted by P for easy evaluation\n",
    "\n"
   ]
  },
  {
   "cell_type": "code",
   "execution_count": 304,
   "metadata": {},
   "outputs": [],
   "source": [
    "#Test to evaluate values in the function defined at the start\n",
    "P, l, L_0, T, T_0 = symbols('P lambda L_0 T T_0') \n",
    "\n",
    "N_eval = 125\n",
    "lambda_eval = 532*10**(-9)\n",
    "L_0_eval = 80*10**(-3)\n",
    "T_eval = 60\n",
    "T_0_eval= 20\n",
    "\n",
    "# Then we create the function\n",
    "alpha = (P * l)/(2 * L_0 * (T - T_0))\n",
    "\n",
    "#The variable N is sustituted by P, as N presents issues when using the subs() function\n",
    "alpha_Eval= alpha.subs(P, N_eval).subs(l, lambda_eval).subs(L_0, L_0_eval).subs(T, T_eval).subs(T_0, T_0_eval)\n",
    "alpha_Eval.evalf()\n",
    "\n",
    "#Even if variables are not included in the expresion we can use .subs() function as it won't modify the function\n",
    "\n",
    "difVariables = [P,l,L_0,T,T_0]\n",
    "\n",
    "sensibilityCoeficients = []\n",
    "\n",
    "#Sensibility coeficients for partial derivatives\n",
    "for variable in difVariables:\n",
    "    derivative = sp.diff(alpha,variable)\n",
    "    sensibilityCoeficients.append(derivative)\n",
    "\n",
    "#Sensibility coeficients for high order derivatives\n",
    "for variable_i in difVariables:\n",
    "    for variable_j in difVariables:\n",
    "        sc = 1/2 * (sp.diff(sp.diff(alpha,variable_j),variable_i))**2 + sp.diff(alpha,variable_i)*sp.diff(sp.diff(sp.diff(alpha,variable_j),variable_j),variable_i)\n",
    "\n",
    "        sensibilityCoeficients.append(sc)\n",
    "\n",
    "\n",
    "#Sensibility coeficients are evaluated using the .subs() function\n",
    "sensibilityCoeficientsEval = []\n",
    "\n",
    "for func in sensibilityCoeficients:\n",
    "    func_Eval= func.subs(P, N_eval).subs(l, lambda_eval).subs(L_0, L_0_eval).subs(T, T_eval).subs(T_0, T_0_eval)\n",
    "    sensibilityCoeficientsEval.append(func_Eval)\n",
    "\n",
    "\n",
    "#SensibilityCoeficients are arranged in a data frame with its evaluation \n",
    "Coeficients = {'Evaluation':sensibilityCoeficientsEval,'SensibilityCoeficients':sensibilityCoeficients}\n",
    "Coeficientsdf = pd.DataFrame(Coeficients, columns=['SensibilityCoeficients','Evaluation'])\n"
   ]
  },
  {
   "attachments": {},
   "cell_type": "markdown",
   "metadata": {},
   "source": [
    "Now contributions are calculated using the uncertainty given for evaluated values"
   ]
  },
  {
   "cell_type": "code",
   "execution_count": 305,
   "metadata": {},
   "outputs": [
    {
     "name": "stdout",
     "output_type": "stream",
     "text": [
      "2.62639717238016e-5\n",
      "1.03906250000000e-5\n"
     ]
    }
   ],
   "source": [
    "#Uncertainties are calculated using the given data \n",
    "u_N = 1 /np.sqrt(3)\n",
    "u_lambda = 5*10**(-9) /np.sqrt(3)\n",
    "u_L_0 = 0.05*10**(-3) /np.sqrt(3)\n",
    "u_T = 60 /np.sqrt(3)\n",
    "u_T_0 = 20 /np.sqrt(3)\n",
    "\n",
    "uncertainties = {P:u_N, l:u_lambda, L_0:u_L_0, T:u_T, T_0:u_T_0}\n",
    "\n",
    "Contributions = []\n",
    "\n",
    "#Contributions for partial derivatives\n",
    "for variable in difVariables:\n",
    "    contribution = sp.diff(alpha,variable).subs(P, N_eval).subs(l, lambda_eval).subs(L_0, L_0_eval).subs(T, T_eval).subs(T_0, T_0_eval) * uncertainties [variable]\n",
    "    Contributions.append(contribution**2)\n",
    "\n",
    "#Contributions for high order derivatives\n",
    "\n",
    "for variable_i in difVariables:\n",
    "    for variable_j in difVariables:\n",
    "        contribution = ( 1/2 * (sp.diff(sp.diff(alpha,variable_j),variable_i))**2 + sp.diff(alpha,variable_i)*sp.diff(sp.diff(sp.diff(alpha,variable_j),variable_j),variable_i) ).subs(P, N_eval).subs(l, lambda_eval).subs(L_0, L_0_eval).subs(T, T_eval).subs(T_0, T_0_eval) *uncertainties[variable_i]**2 *uncertainties[variable_j]**2\n",
    "\n",
    "        Contributions.append(contribution)\n",
    "\n",
    "\n",
    "#Sensibility coeficients, their evaluation and the contribution to the overall combined uncertainty are put together\n",
    "Coeficients = {'Evaluation':sensibilityCoeficientsEval,'SensibilityCoeficients':sensibilityCoeficients, 'Contributions':Contributions}\n",
    "Coeficientsdf = pd.DataFrame(Coeficients, columns=['SensibilityCoeficients','Evaluation', 'Contributions'])\n",
    "\n",
    "#Combined uncertainty\n",
    "u_Combined = 0\n",
    "for contribution in Contributions:\n",
    "    u_Combined = contribution + u_Combined\n",
    "\n",
    "u_Combined = sqrt(u_Combined)\n",
    "\n",
    "print(u_Combined)\n",
    "print(alpha_Eval)"
   ]
  }
 ],
 "metadata": {
  "kernelspec": {
   "display_name": "Python 3",
   "language": "python",
   "name": "python3"
  },
  "language_info": {
   "codemirror_mode": {
    "name": "ipython",
    "version": 3
   },
   "file_extension": ".py",
   "mimetype": "text/x-python",
   "name": "python",
   "nbconvert_exporter": "python",
   "pygments_lexer": "ipython3",
   "version": "3.11.2"
  },
  "orig_nbformat": 4
 },
 "nbformat": 4,
 "nbformat_minor": 2
}
