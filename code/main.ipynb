{
 "cells": [
  {
   "attachments": {},
   "cell_type": "markdown",
   "metadata": {},
   "source": [
    "# Evaluation of the uncertainty of the coefficient of thermal expansion of a ceramic dimensional gauge block measured by interferometry."
   ]
  },
  {
   "attachments": {},
   "cell_type": "markdown",
   "metadata": {},
   "source": [
    "Firstly, we import the necessary libraries to calculate the partial derivates and evaluate"
   ]
  },
  {
   "cell_type": "code",
   "execution_count": 13,
   "metadata": {},
   "outputs": [],
   "source": [
    "import numpy as np\n",
    "import sympy as sp\n",
    "import matplotlib.pyplot as plt\n",
    "import pandas as pd"
   ]
  },
  {
   "attachments": {},
   "cell_type": "markdown",
   "metadata": {},
   "source": [
    "Then we define the measurement function and asign it to the variable `alpha` through the `sympy` package."
   ]
  },
  {
   "cell_type": "code",
   "execution_count": 14,
   "metadata": {},
   "outputs": [
    {
     "name": "stdout",
     "output_type": "stream",
     "text": [
      "N*lambda/(2*L_0*(T - T_0))\n"
     ]
    }
   ],
   "source": [
    "# First, we define the variables used in the ecuation\n",
    "\n",
    "N = sp.Symbol('N')\n",
    "l = sp.Symbol('lambda')\n",
    "L_0 = sp.Symbol('L_0')\n",
    "T = sp.Symbol('T')\n",
    "T_0 = sp.Symbol('T_0')\n",
    "\n",
    "# Then we create the function\n",
    "\n",
    "alpha = (N * l)/(2 * L_0 * (T - T_0))\n",
    "print(alpha)\n"
   ]
  },
  {
   "attachments": {},
   "cell_type": "markdown",
   "metadata": {},
   "source": [
    "Now we find the partial derivatives respective to every variable using a list. "
   ]
  },
  {
   "cell_type": "code",
   "execution_count": 15,
   "metadata": {},
   "outputs": [
    {
     "name": "stdout",
     "output_type": "stream",
     "text": [
      "[[N, lambda, L_0, T, T_0], [lambda/(2*L_0*(T - T_0)), N/(2*L_0*(T - T_0)), -N*lambda/(2*L_0**2*(T - T_0)), -N*lambda/(2*L_0*(T - T_0)**2), N*lambda/(2*L_0*(T - T_0)**2)]]\n"
     ]
    }
   ],
   "source": [
    "difVariables = [N,l,L_0,T,T_0]\n",
    "partialDerivatives = [difVariables,[]]\n",
    "\n",
    "\n",
    "for variable in difVariables:\n",
    "    derivative = sp.diff(alpha,variable)\n",
    "    partialDerivatives[1].append(derivative)\n",
    "\n",
    "print (partialDerivatives)"
   ]
  },
  {
   "attachments": {},
   "cell_type": "markdown",
   "metadata": {},
   "source": [
    "First Order Derivatives are placed in a dataframe with each respective variable as a header"
   ]
  },
  {
   "cell_type": "code",
   "execution_count": 16,
   "metadata": {},
   "outputs": [
    {
     "data": {
      "text/html": [
       "<div>\n",
       "<style scoped>\n",
       "    .dataframe tbody tr th:only-of-type {\n",
       "        vertical-align: middle;\n",
       "    }\n",
       "\n",
       "    .dataframe tbody tr th {\n",
       "        vertical-align: top;\n",
       "    }\n",
       "\n",
       "    .dataframe thead th {\n",
       "        text-align: right;\n",
       "    }\n",
       "</style>\n",
       "<table border=\"1\" class=\"dataframe\">\n",
       "  <thead>\n",
       "    <tr style=\"text-align: right;\">\n",
       "      <th></th>\n",
       "      <th>0</th>\n",
       "      <th>1</th>\n",
       "      <th>2</th>\n",
       "      <th>3</th>\n",
       "      <th>4</th>\n",
       "    </tr>\n",
       "  </thead>\n",
       "  <tbody>\n",
       "    <tr>\n",
       "      <th>0</th>\n",
       "      <td>N</td>\n",
       "      <td>lambda</td>\n",
       "      <td>L_0</td>\n",
       "      <td>T</td>\n",
       "      <td>T_0</td>\n",
       "    </tr>\n",
       "    <tr>\n",
       "      <th>1</th>\n",
       "      <td>lambda/(2*L_0*(T - T_0))</td>\n",
       "      <td>N/(2*L_0*(T - T_0))</td>\n",
       "      <td>-N*lambda/(2*L_0**2*(T - T_0))</td>\n",
       "      <td>-N*lambda/(2*L_0*(T - T_0)**2)</td>\n",
       "      <td>N*lambda/(2*L_0*(T - T_0)**2)</td>\n",
       "    </tr>\n",
       "  </tbody>\n",
       "</table>\n",
       "</div>"
      ],
      "text/plain": [
       "                          0                    1  \\\n",
       "0                         N               lambda   \n",
       "1  lambda/(2*L_0*(T - T_0))  N/(2*L_0*(T - T_0))   \n",
       "\n",
       "                                2                               3  \\\n",
       "0                             L_0                               T   \n",
       "1  -N*lambda/(2*L_0**2*(T - T_0))  -N*lambda/(2*L_0*(T - T_0)**2)   \n",
       "\n",
       "                               4  \n",
       "0                            T_0  \n",
       "1  N*lambda/(2*L_0*(T - T_0)**2)  "
      ]
     },
     "execution_count": 16,
     "metadata": {},
     "output_type": "execute_result"
    }
   ],
   "source": [
    "FirstOrderDerivatives = pd.DataFrame(partialDerivatives)\n",
    "FirstOrderDerivatives"
   ]
  }
 ],
 "metadata": {
  "kernelspec": {
   "display_name": "Python 3",
   "language": "python",
   "name": "python3"
  },
  "language_info": {
   "codemirror_mode": {
    "name": "ipython",
    "version": 3
   },
   "file_extension": ".py",
   "mimetype": "text/x-python",
   "name": "python",
   "nbconvert_exporter": "python",
   "pygments_lexer": "ipython3",
   "version": "3.11.2"
  },
  "orig_nbformat": 4
 },
 "nbformat": 4,
 "nbformat_minor": 2
}
